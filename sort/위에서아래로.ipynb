{
 "cells": [
  {
   "cell_type": "code",
   "execution_count": null,
   "id": "63b9f623",
   "metadata": {},
   "outputs": [],
   "source": [
    "# N 입력 받기\n",
    "n = int(input())\n",
    "\n",
    "# N개의 정수를 입력 받아 리스트에 저장\n",
    "array = []\n",
    "for i in range(n):\n",
    "    array.append(int(input()))\n",
    "\n",
    "# 파이썬 정렬 라이브러리를 이용하여 내림차순 정렬 수행\n",
    "array = sorted(array, reverse=True)\n",
    "\n",
    "# 정렬이 수행된 결과를 출력\n",
    "for i in array:\n",
    "    print(i, end=' ')"
   ]
  }
 ],
 "metadata": {
  "kernelspec": {
   "display_name": "Python 3",
   "language": "python",
   "name": "python3"
  },
  "language_info": {
   "codemirror_mode": {
    "name": "ipython",
    "version": 3
   },
   "file_extension": ".py",
   "mimetype": "text/x-python",
   "name": "python",
   "nbconvert_exporter": "python",
   "pygments_lexer": "ipython3",
   "version": "3.7.0"
  }
 },
 "nbformat": 4,
 "nbformat_minor": 5
}
