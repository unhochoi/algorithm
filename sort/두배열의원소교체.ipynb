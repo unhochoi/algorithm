{
 "cells": [
  {
   "cell_type": "code",
   "execution_count": 67,
   "id": "35218257",
   "metadata": {},
   "outputs": [
    {
     "name": "stdout",
     "output_type": "stream",
     "text": [
      "5 3\n",
      "1 2 5 4 3\n",
      "5 5 6 6 5\n",
      "26\n"
     ]
    }
   ],
   "source": [
    "n, k = map(int, input().split()) # N과 K를 입력 받기\n",
    "a = list(map(int, input().split())) # 배열 A의 모든 원소를 입력받기\n",
    "b = list(map(int, input().split())) # 배열 B의 모든 원소를 입력받기\n",
    "\n",
    "a.sort() # 배열 A는 오름차순 정렬 수행\n",
    "b.sort(reverse=True) # 배열 B는 내림차순 정렬 수행\n",
    "\n",
    "# 첫 번째 인덱스부터 확인하며, 두 배열의 원소를 최대 K번 비교\n",
    "for i in range(k):\n",
    "    # A의 원소가 B의 원소보다 작은 경우\n",
    "    if a[i] < b[i]:\n",
    "        # 두 원소를 교체\n",
    "        a[i], b[i] = b[i], a[i]\n",
    "    else: # A의 원소가 B의 원소보다 크거나 같을 때, 반복문을 탈출\n",
    "        break\n",
    "\n",
    "print(sum(a)) # 배열 A의 모든 원소의 합을 출력"
   ]
  }
 ],
 "metadata": {
  "kernelspec": {
   "display_name": "Python 3",
   "language": "python",
   "name": "python3"
  },
  "language_info": {
   "codemirror_mode": {
    "name": "ipython",
    "version": 3
   },
   "file_extension": ".py",
   "mimetype": "text/x-python",
   "name": "python",
   "nbconvert_exporter": "python",
   "pygments_lexer": "ipython3",
   "version": "3.7.0"
  }
 },
 "nbformat": 4,
 "nbformat_minor": 5
}
