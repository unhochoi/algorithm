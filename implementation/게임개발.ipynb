{
 "cells": [
  {
   "cell_type": "code",
   "execution_count": 57,
   "id": "e40d57d1",
   "metadata": {},
   "outputs": [
    {
     "name": "stdout",
     "output_type": "stream",
     "text": [
      "4 4\n",
      "1 1 0\n",
      "1 1 1 1\n",
      "1 0 0 1\n",
      "1 1 0 1\n",
      "1 1 1 1\n",
      "3\n"
     ]
    }
   ],
   "source": [
    "# N, M 을 공백으로 구분하여 입력 받기\n",
    "n, m = map(int, input().split())\n",
    "\n",
    "# 방문할 위치를 저장할 배열 선언\n",
    "check = [[0]*m for _ in range(n)]\n",
    "# 현재 캐릭터의 X 좌표, Y 좌표, 방향을 입력 받기\n",
    "A, B, d = map(int, input().split())\n",
    "# 시작 위치는 방문 선언\n",
    "check[A][B] = 1\n",
    "\n",
    "# 전체 맵 정보 입력 받기\n",
    "map_status = []\n",
    "for i in range(n):\n",
    "    row = list(map(int, input().split()))\n",
    "    map_status.append(row)\n",
    "\n",
    "# 북, 동, 남, 서 방향 선언\n",
    "dx = [-1, 0, 1, 0]\n",
    "dy = [0, -1, 0, 1]\n",
    "\n",
    "# 왼쪽으로 회전하는 함수\n",
    "def left_turn():\n",
    "    global d\n",
    "    d += 1\n",
    "    if (d == 4):\n",
    "        d = 0\n",
    "\n",
    "# 방문한 칸의 수 (시작 위치는 방문한 것으로 설정)\n",
    "count = 1\n",
    "# 각 좌표별 회전한 횟수\n",
    "turn_time = 0\n",
    "while True:\n",
    "    \n",
    "    # 왼쪽으로 회전\n",
    "    left_turn()\n",
    "    # 바라보는 방향의 좌표\n",
    "    nx = A + dx[d]\n",
    "    ny = B + dy[d]\n",
    "    # 바라보는 방향이 맵 내부에 있는지 확인\n",
    "    if (nx >= 0 and nx < n and ny >= 0 and ny < m):\n",
    "        # 해당 방향으로 방문할 수 있는지 확인\n",
    "        if (check[nx][ny] == 0 and map_status[nx][ny] == 0):\n",
    "            # 현재 위치 변경\n",
    "            A = nx\n",
    "            B = ny\n",
    "            # 방문 체크\n",
    "            check[nx][ny] = 1\n",
    "            # 방문 칸수 추가\n",
    "            count += 1\n",
    "            # 회전 횟수 초기화\n",
    "            turn_time = 0\n",
    "            continue\n",
    "        # 해당 방향으로 방문할 수 없다면\n",
    "        else:\n",
    "            turn_time += 1\n",
    "        # 회전 횟수가 찼다면\n",
    "        if (turn_time == 4):\n",
    "            # 바라보는 방향은 그대로 두고, 위치만 뒤로 변경\n",
    "            nx = A - dx[d]\n",
    "            ny = A - dy[d]    \n",
    "            # 뒤로 갈 수 있다면\n",
    "            if (check[nx][ny] == 0 and map_status[nx][ny] == 0):\n",
    "                A = nx\n",
    "                B = ny\n",
    "                # 회전 횟수 초기화\n",
    "                turn_time = 0\n",
    "            # 뒤로 갈 수 없다면\n",
    "            else:\n",
    "                break\n",
    "\n",
    "print(count)"
   ]
  }
 ],
 "metadata": {
  "kernelspec": {
   "display_name": "Python 3",
   "language": "python",
   "name": "python3"
  },
  "language_info": {
   "codemirror_mode": {
    "name": "ipython",
    "version": 3
   },
   "file_extension": ".py",
   "mimetype": "text/x-python",
   "name": "python",
   "nbconvert_exporter": "python",
   "pygments_lexer": "ipython3",
   "version": "3.7.0"
  }
 },
 "nbformat": 4,
 "nbformat_minor": 5
}
