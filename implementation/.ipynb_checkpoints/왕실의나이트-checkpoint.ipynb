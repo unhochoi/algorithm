{
 "cells": [
  {
   "cell_type": "code",
   "execution_count": 5,
   "id": "ba44572d",
   "metadata": {},
   "outputs": [
    {
     "name": "stdout",
     "output_type": "stream",
     "text": [
      "a1\n",
      "2\n"
     ]
    }
   ],
   "source": [
    "# 현재 나이트의 위치\n",
    "start = input()\n",
    "\n",
    "# 현재 나이트의 위치를 숫자로 변환\n",
    "x = int(start[1])\n",
    "y_list = [\"a\", \"b\", \"c\", \"d\", \"e\", \"f\", \"g\", \"h\"]\n",
    "y = y_list.index(start[0])+1\n",
    "\n",
    "# 8가지 방향 정의 (상좌, 상우, 하좌, 하우, 좌상, 좌하, 우상, 우하)\n",
    "steps = [(-2, -1), (-2, 1), (2, -1), (2, 1), (-1, -2), (1, -2), (-1, 2), (1, 2)]\n",
    "\n",
    "count = 0\n",
    "for step in steps:\n",
    "    # 이동하고자하는 위치 확인\n",
    "    nx = x + step[0]\n",
    "    ny = y + step[1]\n",
    "    # 해당 위치로 이동 가능하다면 카운트 증가\n",
    "    if (nx >= 1 and nx <= 8 and ny >= 1 and ny <= 8):\n",
    "      count += 1  \n",
    "\n",
    "print(count)"
   ]
  }
 ],
 "metadata": {
  "kernelspec": {
   "display_name": "Python 3",
   "language": "python",
   "name": "python3"
  },
  "language_info": {
   "codemirror_mode": {
    "name": "ipython",
    "version": 3
   },
   "file_extension": ".py",
   "mimetype": "text/x-python",
   "name": "python",
   "nbconvert_exporter": "python",
   "pygments_lexer": "ipython3",
   "version": "3.7.0"
  }
 },
 "nbformat": 4,
 "nbformat_minor": 5
}
