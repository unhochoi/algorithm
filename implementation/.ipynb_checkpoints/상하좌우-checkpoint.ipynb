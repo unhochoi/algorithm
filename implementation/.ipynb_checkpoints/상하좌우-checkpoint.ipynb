{
 "cells": [
  {
   "cell_type": "code",
   "execution_count": 13,
   "id": "58616660",
   "metadata": {},
   "outputs": [
    {
     "name": "stdout",
     "output_type": "stream",
     "text": [
      "5\n",
      "R R R U D D\n",
      "3 4\n"
     ]
    }
   ],
   "source": [
    "n = int(input())\n",
    "x, y = 1,1\n",
    "plans = input().split()\n",
    "\n",
    "dx = [-1, 1, 0, 0]\n",
    "dy = [0, 0, -1, 1]\n",
    "\n",
    "for plan in plans:\n",
    "    if (plan == 'U'):\n",
    "        nx = x + dx[0]\n",
    "        ny = y + dy[0]\n",
    "    elif (plan == 'D'):\n",
    "        nx = x + dx[1]\n",
    "        ny = y + dy[1]\n",
    "    elif (plan == 'L'):\n",
    "        nx = x + dx[2]\n",
    "        ny = y + dy[2]\n",
    "    else:\n",
    "        nx = x + dx[3]\n",
    "        ny = y + dy[3]\n",
    "    if (nx >= 1 and nx <= 5 and ny >= 1 and ny <= 5):\n",
    "        x = nx\n",
    "        y = ny\n",
    "\n",
    "print(x, y)"
   ]
  },
  {
   "cell_type": "code",
   "execution_count": null,
   "id": "a04a0a10",
   "metadata": {},
   "outputs": [],
   "source": []
  }
 ],
 "metadata": {
  "kernelspec": {
   "display_name": "Python 3",
   "language": "python",
   "name": "python3"
  },
  "language_info": {
   "codemirror_mode": {
    "name": "ipython",
    "version": 3
   },
   "file_extension": ".py",
   "mimetype": "text/x-python",
   "name": "python",
   "nbconvert_exporter": "python",
   "pygments_lexer": "ipython3",
   "version": "3.7.0"
  }
 },
 "nbformat": 4,
 "nbformat_minor": 5
}
