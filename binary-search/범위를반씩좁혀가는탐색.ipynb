{
 "cells": [
  {
   "cell_type": "code",
   "execution_count": 21,
   "id": "f3bc23a0",
   "metadata": {},
   "outputs": [
    {
     "name": "stdout",
     "output_type": "stream",
     "text": [
      "10 7\n",
      "1 3 5 6 9 11 13 15 17 19\n",
      "원소가 존재하지 않습니다.\n"
     ]
    }
   ],
   "source": [
    "# n(원소의 개수)과 search(찾고자 하는 값)를 입력 받기\n",
    "n, search = map(int,input().split())\n",
    "# 전체 원소 입력 받기\n",
    "n_list = list(map(int,input().split()))\n",
    "\n",
    "def binary_search(start, end):\n",
    "    # 못 찾았을 경우\n",
    "    if (start > end):\n",
    "        return None\n",
    "\n",
    "    # 중간 index 찾기\n",
    "    mid = (start+end)//2\n",
    "    \n",
    "    # 중간 index 의 값이 찾으려는 값과 같은지 확인\n",
    "    if (n_list[mid] == search):\n",
    "        return mid+1\n",
    "    # 중간 index 의 값이 찾으려는 값보다 큰 경우\n",
    "    elif (n_list[mid] > search):\n",
    "        return binary_search(start, mid - 1)\n",
    "    # 중간 index 의 값이 찾으려는 값보다 작은 경우\n",
    "    else:\n",
    "        return binary_search(mid+1, end)\n",
    "\n",
    "# 탐색 시작 idx 정의\n",
    "start = 0\n",
    "end = len(n_list)-1\n",
    "\n",
    "# 이진 탐색 수행 결과 출력\n",
    "result = binary_search(start, end)\n",
    "if (result == None):\n",
    "    print(\"원소가 존재하지 않습니다.\")\n",
    "else:\n",
    "    print(result)\n"
   ]
  }
 ],
 "metadata": {
  "kernelspec": {
   "display_name": "Python 3",
   "language": "python",
   "name": "python3"
  },
  "language_info": {
   "codemirror_mode": {
    "name": "ipython",
    "version": 3
   },
   "file_extension": ".py",
   "mimetype": "text/x-python",
   "name": "python",
   "nbconvert_exporter": "python",
   "pygments_lexer": "ipython3",
   "version": "3.7.0"
  }
 },
 "nbformat": 4,
 "nbformat_minor": 5
}
