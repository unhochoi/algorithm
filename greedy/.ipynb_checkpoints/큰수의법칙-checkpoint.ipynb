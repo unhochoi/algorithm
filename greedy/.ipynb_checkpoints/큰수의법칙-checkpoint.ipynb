{
 "cells": [
  {
   "cell_type": "code",
   "execution_count": 15,
   "id": "3fc4fbbc",
   "metadata": {},
   "outputs": [
    {
     "name": "stdout",
     "output_type": "stream",
     "text": [
      "5 8 3\n",
      "2 4 5 4 6\n",
      "46\n"
     ]
    }
   ],
   "source": [
    "# N, M, K를 공백으로 구분하여 입력 받기\n",
    "n, m, k = map(int, input().split())\n",
    "# N개의 수를 공백으로 구분하여 입력 받기\n",
    "data = list(map(int, input().split()))\n",
    "\n",
    "# 입력 받은 수 정렬\n",
    "data.sort() \n",
    "\n",
    "# 가장 큰 수가 더해지는 횟수 계산\n",
    "count = (m//(k + 1))*k\n",
    "count += m % (k+1)\n",
    "\n",
    "result = 0\n",
    "result += count * data[-1] # 가장 큰 수 더하기\n",
    "result += (m-count) * data[-2] # 두 번째로 큰 수 더하기\n",
    "\n",
    "print(result) # 최종 답안 출력"
   ]
  }
 ],
 "metadata": {
  "kernelspec": {
   "display_name": "Python 3",
   "language": "python",
   "name": "python3"
  },
  "language_info": {
   "codemirror_mode": {
    "name": "ipython",
    "version": 3
   },
   "file_extension": ".py",
   "mimetype": "text/x-python",
   "name": "python",
   "nbconvert_exporter": "python",
   "pygments_lexer": "ipython3",
   "version": "3.7.0"
  }
 },
 "nbformat": 4,
 "nbformat_minor": 5
}
