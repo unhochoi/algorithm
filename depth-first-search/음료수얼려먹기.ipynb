{
 "cells": [
  {
   "cell_type": "code",
   "execution_count": 3,
   "id": "a7899435",
   "metadata": {},
   "outputs": [
    {
     "name": "stdout",
     "output_type": "stream",
     "text": [
      "8\n"
     ]
    }
   ],
   "source": [
    "# N, M을 공백으로 구분하여 입력 받기\n",
    "n, m = map(int, input().split())\n",
    "\n",
    "# 2차원 리스트의 맵 정보 입력 받기\n",
    "ice_board = []\n",
    "for i in range(n):\n",
    "    ice_board.append(list(map(int, input())))\n",
    "\n",
    "# 상하좌우 진행용 방향 리스트\n",
    "dx = [-1, 1, 0, 0]\n",
    "dy = [0, 0, -1, 1]\n",
    "\n",
    "# 아이스크림 개수\n",
    "count = 0\n",
    "\n",
    "# dfs를 통해 현재 노드를 방문한 뒤, 연결된 모든 노드들을 방문\n",
    "def dfs(start_x, start_y):\n",
    "\n",
    "    # 현재 노드를 방문 처리\n",
    "    ice_board[start_x][start_y] = 1\n",
    "\n",
    "    # 현재 노드와 인접한 모든 노드들을 탐색하며, 방문 가능할 경우 방문\n",
    "    for i in range(4):\n",
    "\n",
    "        # 인접 노드 좌표\n",
    "        nx = start_x + dx[i]\n",
    "        ny = start_y + dy[i]\n",
    "\n",
    "        # 인접 노드가 얼음판 내부에 위치할 경우\n",
    "        if (nx >= 0 and nx < n and ny >= 0 and ny < m):\n",
    "\n",
    "            # 인접 노드에 음료수를 채울 수 있는지 확인\n",
    "            if (ice_board[nx][ny] == 0):\n",
    "\n",
    "                # 인접 노드 방문\n",
    "                dfs(nx, ny)\n",
    "                \n",
    "# 모든 위치에 음료수 채우기\n",
    "for i in range(n):\n",
    "    for j in range(m):\n",
    "        # 해당 노드에 음료수를 채울 수 있다면\n",
    "        if (ice_board[i][j] == 0):\n",
    "            # 해당 노드에서 dfs 탐색 시작\n",
    "            dfs(i,j)\n",
    "            count += 1\n",
    "\n",
    "print(count)"
   ]
  }
 ],
 "metadata": {
  "kernelspec": {
   "display_name": "Python 3",
   "language": "python",
   "name": "python3"
  },
  "language_info": {
   "codemirror_mode": {
    "name": "ipython",
    "version": 3
   },
   "file_extension": ".py",
   "mimetype": "text/x-python",
   "name": "python",
   "nbconvert_exporter": "python",
   "pygments_lexer": "ipython3",
   "version": "3.7.0"
  }
 },
 "nbformat": 4,
 "nbformat_minor": 5
}
