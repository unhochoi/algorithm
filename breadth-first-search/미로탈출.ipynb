{
 "cells": [
  {
   "cell_type": "code",
   "execution_count": 19,
   "id": "6e763bb4",
   "metadata": {},
   "outputs": [
    {
     "name": "stdout",
     "output_type": "stream",
     "text": [
      "10\n"
     ]
    }
   ],
   "source": [
    "from collections import deque\n",
    "\n",
    "#  N, M 을 공백으로 구분하여 입력 받기\n",
    "n, m = map(int, input().split())\n",
    "# 2차원 리스트의 맵 정보 입력 받기\n",
    "maze = []\n",
    "for i in range(n):\n",
    "    maze.append(list(map(int,input())))\n",
    "\n",
    "# 방문 기록용 2차원 리스트\n",
    "check = [[0]*m for _ in range(n)]\n",
    "\n",
    "# 이동칸 기록용 2차원 리스트\n",
    "count = [[0]*m for _ in range(n)]\n",
    "\n",
    "# 상하좌우 이동용 방향\n",
    "dx = [-1, 1, 0, 0]\n",
    "dy = [0, 0, -1, 1]\n",
    "\n",
    "\n",
    "# BFS 소스 코드 구현\n",
    "def bfs():\n",
    "\n",
    "    # bfs 탐색용 큐 생성\n",
    "    queue = deque()\n",
    "\n",
    "    # 시작 위치를 큐에 삽입\n",
    "    queue.append((0,0))\n",
    "    # 시작 위치 방문 기록\n",
    "    check[0][0] = 1\n",
    "    # 시작 위치 이동칸 수 기록\n",
    "    count[0][0] = 1\n",
    "    \n",
    "    # queue 의 요소가 전부 제거될 때까지 반복\n",
    "    while queue:\n",
    "        # 큐의 최하단 요소를 현재 위치로 저장하고 큐에서 제거\n",
    "        x, y = queue.popleft()\n",
    "\n",
    "        # 현재 위치를 기준으로 상하좌우 탐색\n",
    "        for i in range(4):\n",
    "\n",
    "            # 인접한 노드의 위치\n",
    "            nx = x + dx[i]\n",
    "            ny = y + dy[i]\n",
    "\n",
    "            # 인접한 노드가 미로 내부에 존재하는지 확인\n",
    "            if (nx >=0 and nx < n and ny >= 0 and ny < m):\n",
    "\n",
    "                # 인접한 노드를 방문할 수 있는지 확인\n",
    "                if (check[nx][ny] == 0 and maze[nx][ny] == 1):\n",
    "\n",
    "                    # 방문할 수 있다면 큐에 삽입\n",
    "                    queue.append((nx,ny))\n",
    "                    # 인접 노드 방문 기록\n",
    "                    check[nx][ny] = 1\n",
    "                    # 인접 노드 이동칸 수 기록\n",
    "                    count[nx][ny] = count[x][y] + 1\n",
    "\n",
    "    return count[n-1][m-1]\n",
    "\n",
    "print(bfs())"
   ]
  }
 ],
 "metadata": {
  "kernelspec": {
   "display_name": "Python 3",
   "language": "python",
   "name": "python3"
  },
  "language_info": {
   "codemirror_mode": {
    "name": "ipython",
    "version": 3
   },
   "file_extension": ".py",
   "mimetype": "text/x-python",
   "name": "python",
   "nbconvert_exporter": "python",
   "pygments_lexer": "ipython3",
   "version": "3.7.0"
  }
 },
 "nbformat": 4,
 "nbformat_minor": 5
}
